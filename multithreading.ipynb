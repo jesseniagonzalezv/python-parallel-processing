{
 "cells": [
  {
   "cell_type": "code",
   "execution_count": 1,
   "metadata": {},
   "outputs": [],
   "source": [
    "from multiprocessing import Pool, cpu_count, Process\n",
    "import numpy as np\n",
    "import time\n",
    "from itertools import repeat\n",
    "from pprint import pprint\n",
    "import matplotlib.pyplot as plt\n",
    "import glob\n",
    "import os\n",
    "from PIL import Image, ImageFilter\n",
    "import threading\n",
    "import requests"
   ]
  },
  {
   "cell_type": "markdown",
   "metadata": {},
   "source": [
    "### Example 1: processing multiple images. Mix multiprocessing and multithreading.\n",
    "The idea is that each processor will work on two images and for each processor two threads will be launched.\n"
   ]
  },
  {
   "cell_type": "code",
   "execution_count": 2,
   "metadata": {},
   "outputs": [],
   "source": [
    "def img_proc_thread(img_name, results_path):\n",
    "    \n",
    "    img = Image.open(img_name).convert('L') # load image in grayscale\n",
    "    img = img.resize((img.size[0]*8,img.size[1]*8)) # resize four times bigger\n",
    "\n",
    "    # img_neg = img.point(lambda i: 255 - i)  # compute the negative of each pixel (lambda is an intrisic function)\n",
    "    img_fil = img.filter(ImageFilter.FIND_EDGES) # fine edges in the image\n",
    "        \n",
    "    img_fil.save(os.path.join(results_path,img_names[i].split('/')[-1]))"
   ]
  },
  {
   "cell_type": "code",
   "execution_count": 3,
   "metadata": {},
   "outputs": [],
   "source": [
    "def img_filter(img_names, idx, results_path):\n",
    "    threads_list = []\n",
    "    for i in idx:\n",
    "        img_to_thread = threading.Thread(target=img_proc_thread, args=(img_names[i], results_path))\n",
    "        threads_list.append(img_to_thread)\n",
    "        \n",
    "    for eachThread in threads_list:\n",
    "        eachThread.start()\n",
    "    \n",
    "    for eachThread in threads_list:\n",
    "        eachThread.join()"
   ]
  },
  {
   "cell_type": "code",
   "execution_count": 4,
   "metadata": {},
   "outputs": [
    {
     "name": "stdout",
     "output_type": "stream",
     "text": [
      "['./data/barbara_gray512.png',\n",
      " './data/boats_gray.png',\n",
      " './data/goldhill_gray.png',\n",
      " './data/horse.png',\n",
      " './data/lena_gray_512.png',\n",
      " './data/lighthouse_gray.png',\n",
      " './data/mandrill_gray.png',\n",
      " './data/peppers_gray.png']\n"
     ]
    }
   ],
   "source": [
    "# Define the path for the images\n",
    "img_path = './data'\n",
    "img_names = sorted(glob.glob(os.path.join(img_path,'*.png')))\n",
    "results_path = './results'\n",
    "\n",
    "idx = list(range(len(img_names))) # we want to process all img in data folder\n",
    "pprint(img_names)"
   ]
  },
  {
   "cell_type": "code",
   "execution_count": 5,
   "metadata": {},
   "outputs": [
    {
     "name": "stdout",
     "output_type": "stream",
     "text": [
      "Processor 0: img_names[0, 1]\n",
      "Processor 1: img_names[2, 3]\n",
      "Processor 2: img_names[4, 5]\n",
      "Processor 3: img_names[6, 7]\n",
      "Parallel execution time:  1.8403654098510742\n"
     ]
    }
   ],
   "source": [
    "# Parallel processing:\n",
    "NUM_PROC = 4 # number of processors in PC to be used\n",
    "# NUM_PROC = cpu_count() # number of processors in PC to be used\n",
    "imgs_per_proc = (len(idx)//NUM_PROC)\n",
    "\n",
    "t2 = time.time()\n",
    "jobs = []\n",
    "for i in range(NUM_PROC):\n",
    "    print(f'Processor {i}: img_names{idx[i*imgs_per_proc:(i+1)*imgs_per_proc]}')\n",
    "    # each process will execute the target function in the same number of images.\n",
    "    process = Process(target=img_filter, args=(img_names, idx[i*imgs_per_proc:(i+1)*imgs_per_proc], results_path))\n",
    "    jobs.append(process)\n",
    "\n",
    "for j in jobs:\n",
    "    j.start()\n",
    "\n",
    "for j in jobs:\n",
    "    j.join()  \n",
    "\n",
    "tp = time.time() - t2  \n",
    "print(\"Parallel execution time: \", tp)"
   ]
  },
  {
   "cell_type": "markdown",
   "metadata": {},
   "source": [
    "### Example 2: downloading images using multithreading."
   ]
  },
  {
   "cell_type": "code",
   "execution_count": 6,
   "metadata": {},
   "outputs": [],
   "source": [
    "images = [\n",
    "    \t# Photo credits: https://unsplash.com/photos/IKUYGCFmfw4 \n",
    "    \t'https://images.unsplash.com/photo-1509718443690-d8e2fb3474b7',\n",
    "\n",
    "    \t# Photo credits: https://unsplash.com/photos/vpOeXr5wmR4\n",
    "    \t'https://images.unsplash.com/photo-1587620962725-abab7fe55159',\n",
    "\n",
    "    \t# Photo credits: https://unsplash.com/photos/iacpoKgpBAM\n",
    "    \t'https://images.unsplash.com/photo-1493119508027-2b584f234d6c',\n",
    "\n",
    "    \t# Photo credits: https://unsplash.com/photos/b18TRXc8UPQ\n",
    "    \t'https://images.unsplash.com/photo-1482062364825-616fd23b8fc1',\n",
    "\n",
    "    \t# Photo credits: https://unsplash.com/photos/XMFZqrGyV-Q\n",
    "    \t'https://images.unsplash.com/photo-1521185496955-15097b20c5fe',\n",
    "\n",
    "    \t# Photo credits: https://unsplash.com/photos/9SoCnyQmkzI\n",
    "    \t'https://images.unsplash.com/photo-1510915228340-29c85a43dcfe',\n",
    "]\n",
    "\n",
    "def http_get_request(url, file_name):\n",
    "    req = requests.get(url)\n",
    "    f = open(file_name, \"wb\")\n",
    "    f.write(req.content)\n",
    "    f.close()"
   ]
  },
  {
   "cell_type": "code",
   "execution_count": 7,
   "metadata": {},
   "outputs": [
    {
     "name": "stdout",
     "output_type": "stream",
     "text": [
      "Serial execution time:  10.49658989906311\n"
     ]
    }
   ],
   "source": [
    "# Serial processing:\n",
    "start_time = time.time()\n",
    "for i in range(len(images)):\n",
    "    file_name = 'img' + str(i) + '.jpg'\n",
    "    http_get_request(images[i], file_name)\n",
    "ts = time.time() - start_time\n",
    "print(\"Serial execution time: \", ts)"
   ]
  },
  {
   "cell_type": "code",
   "execution_count": 8,
   "metadata": {},
   "outputs": [
    {
     "name": "stdout",
     "output_type": "stream",
     "text": [
      "Parallel execution time:  4.777956008911133\n"
     ]
    }
   ],
   "source": [
    "# Parallel processing using multi-threading: \n",
    "threads_list = []\n",
    "\n",
    "start_time = time.time()\n",
    "for i in range(len(images)):\n",
    "    file_name = 'img' + str(i) + '.jpg'\n",
    "    download_url = images[i]\n",
    "    url_hilo = threading.Thread(target= http_get_request, args=(download_url, file_name))\n",
    "    threads_list.append(url_hilo)\n",
    "    threads_list[i].start()\n",
    "\n",
    "for eachThread in threads_list:\n",
    "    eachThread.join()\n",
    "\n",
    "tp_mth = time.time() - start_time\n",
    "print(\"Parallel execution time: \", tp_mth)"
   ]
  },
  {
   "cell_type": "code",
   "execution_count": 9,
   "metadata": {},
   "outputs": [
    {
     "name": "stdout",
     "output_type": "stream",
     "text": [
      "Speed-up (multi-threading):  2.196878723765232\n"
     ]
    }
   ],
   "source": [
    "print(\"Speed-up (multi-threading): \", ts/tp_mth)"
   ]
  },
  {
   "cell_type": "code",
   "execution_count": 10,
   "metadata": {},
   "outputs": [
    {
     "name": "stdout",
     "output_type": "stream",
     "text": [
      "Parallel execution time:  5.518742799758911\n"
     ]
    }
   ],
   "source": [
    "# Parallel processing using multi-processing: \n",
    "processes_list = []\n",
    "\n",
    "start_time = time.time()\n",
    "for i in range(len(images)):\n",
    "    file_name = 'img' + str(i) + '.jpg'\n",
    "    download_url = images[i]\n",
    "    url_hilo = Process(target= http_get_request, args=(download_url, file_name))\n",
    "    processes_list.append(url_hilo)\n",
    "    processes_list[i].start()\n",
    "\n",
    "for eachProcess in processes_list:\n",
    "    eachProcess.join()\n",
    "\n",
    "tp_mp = time.time() - start_time\n",
    "print(\"Parallel execution time: \", tp_mp)"
   ]
  },
  {
   "cell_type": "code",
   "execution_count": 11,
   "metadata": {},
   "outputs": [
    {
     "name": "stdout",
     "output_type": "stream",
     "text": [
      "Speed-up (multi-processing):  1.9019893261779945\n"
     ]
    }
   ],
   "source": [
    "print(\"Speed-up (multi-processing): \", ts/tp_mp)"
   ]
  }
 ],
 "metadata": {
  "interpreter": {
   "hash": "31f2aee4e71d21fbe5cf8b01ff0e069b9275f58929596ceb00d14d90e3e16cd6"
  },
  "kernelspec": {
   "display_name": "Python 3.6.9 64-bit",
   "language": "python",
   "name": "python3"
  },
  "language_info": {
   "codemirror_mode": {
    "name": "ipython",
    "version": 3
   },
   "file_extension": ".py",
   "mimetype": "text/x-python",
   "name": "python",
   "nbconvert_exporter": "python",
   "pygments_lexer": "ipython3",
   "version": "3.6.9"
  },
  "orig_nbformat": 4
 },
 "nbformat": 4,
 "nbformat_minor": 2
}
