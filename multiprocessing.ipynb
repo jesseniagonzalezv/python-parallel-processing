{
 "cells": [
  {
   "cell_type": "code",
   "execution_count": 1,
   "metadata": {
    "slideshow": {
     "slide_type": "slide"
    }
   },
   "outputs": [
    {
     "name": "stdout",
     "output_type": "stream",
     "text": [
      "Architecture:        x86_64\n",
      "CPU op-mode(s):      32-bit, 64-bit\n",
      "Byte Order:          Little Endian\n",
      "CPU(s):              8\n",
      "On-line CPU(s) list: 0-7\n",
      "Thread(s) per core:  2\n",
      "Core(s) per socket:  4\n",
      "Socket(s):           1\n",
      "NUMA node(s):        1\n",
      "Vendor ID:           GenuineIntel\n",
      "CPU family:          6\n",
      "Model:               60\n",
      "Model name:          Intel(R) Core(TM) i7-4710HQ CPU @ 2.50GHz\n",
      "Stepping:            3\n",
      "CPU MHz:             3260.631\n",
      "CPU max MHz:         3500.0000\n",
      "CPU min MHz:         800.0000\n",
      "BogoMIPS:            4988.81\n",
      "Virtualization:      VT-x\n",
      "L1d cache:           32K\n",
      "L1i cache:           32K\n",
      "L2 cache:            256K\n",
      "L3 cache:            6144K\n",
      "NUMA node0 CPU(s):   0-7\n",
      "Flags:               fpu vme de pse tsc msr pae mce cx8 apic sep mtrr pge mca cmov pat pse36 clflush dts acpi mmx fxsr sse sse2 ss ht tm pbe syscall nx pdpe1gb rdtscp lm constant_tsc arch_perfmon pebs bts rep_good nopl xtopology nonstop_tsc cpuid aperfmperf pni pclmulqdq dtes64 monitor ds_cpl vmx est tm2 ssse3 sdbg fma cx16 xtpr pdcm pcid sse4_1 sse4_2 x2apic movbe popcnt tsc_deadline_timer aes xsave avx f16c rdrand lahf_lm abm cpuid_fault epb invpcid_single pti ssbd ibrs ibpb stibp tpr_shadow vnmi flexpriority ept vpid ept_ad fsgsbase tsc_adjust bmi1 avx2 smep bmi2 erms invpcid xsaveopt dtherm ida arat pln pts md_clear flush_l1d\n"
     ]
    }
   ],
   "source": [
    "# check HW:\n",
    "!lscpu \n",
    "# htop (activity monitor --> watch all process running on the CPUs)"
   ]
  },
  {
   "cell_type": "code",
   "execution_count": 2,
   "metadata": {
    "slideshow": {
     "slide_type": "slide"
    }
   },
   "outputs": [],
   "source": [
    "from multiprocessing import Pool, cpu_count, Process\n",
    "import numpy as np\n",
    "import time\n",
    "from itertools import repeat\n",
    "from pprint import pprint\n",
    "import matplotlib.pyplot as plt\n",
    "import glob\n",
    "import os\n",
    "from PIL import Image, ImageFilter"
   ]
  },
  {
   "cell_type": "code",
   "execution_count": 3,
   "metadata": {
    "slideshow": {
     "slide_type": "slide"
    }
   },
   "outputs": [
    {
     "name": "stdout",
     "output_type": "stream",
     "text": [
      "Number of processers:  8\n"
     ]
    }
   ],
   "source": [
    "print(\"Number of processers: \", cpu_count())"
   ]
  },
  {
   "cell_type": "markdown",
   "metadata": {
    "slideshow": {
     "slide_type": "slide"
    }
   },
   "source": [
    "### Example 1: computing the square value of a each element in a list."
   ]
  },
  {
   "cell_type": "code",
   "execution_count": 3,
   "metadata": {
    "slideshow": {
     "slide_type": "subslide"
    }
   },
   "outputs": [],
   "source": [
    "def f(x):\n",
    "    return x*x"
   ]
  },
  {
   "cell_type": "code",
   "execution_count": 84,
   "metadata": {
    "slideshow": {
     "slide_type": "subslide"
    }
   },
   "outputs": [],
   "source": [
    "# arr = [1, 2, 3]\n",
    "N = 10000000\n",
    "arr = np.random.randint(10, size=(N))\n",
    "# print(\"Array values:\", arr)"
   ]
  },
  {
   "cell_type": "code",
   "execution_count": 85,
   "metadata": {
    "slideshow": {
     "slide_type": "subslide"
    }
   },
   "outputs": [
    {
     "name": "stdout",
     "output_type": "stream",
     "text": [
      "Serial execution time:  4.723489761352539\n"
     ]
    }
   ],
   "source": [
    "# Serial process:\n",
    "result_serial = []#np.zeros((N))\n",
    "t1 = time.time()\n",
    "for i in range(len(arr)):\n",
    "    # result_serial[i] = f(arr[i])\n",
    "    result_serial.append(f(arr[i]))\n",
    "ts = time.time() - t1\n",
    "print(\"Serial execution time: \", ts)"
   ]
  },
  {
   "cell_type": "code",
   "execution_count": 88,
   "metadata": {
    "slideshow": {
     "slide_type": "subslide"
    }
   },
   "outputs": [
    {
     "name": "stdout",
     "output_type": "stream",
     "text": [
      "Parallel execution time:  45.58695101737976\n"
     ]
    }
   ],
   "source": [
    "t2 = time.time()\n",
    "p = Pool(cpu_count())\n",
    "result_parallel = p.map(f,arr)  # start the parallel processing, select processors automatically\n",
    "p.close()                       # close the parallel pool\n",
    "p.join()                        # wait for all processes to finish\n",
    "tp = time.time() - t2\n",
    "print(\"Parallel execution time: \", tp)"
   ]
  },
  {
   "cell_type": "code",
   "execution_count": 89,
   "metadata": {
    "slideshow": {
     "slide_type": "subslide"
    }
   },
   "outputs": [
    {
     "name": "stdout",
     "output_type": "stream",
     "text": [
      "Speed-up:  0.10361495243565941\n"
     ]
    }
   ],
   "source": [
    "print(\"Speed-up: \", ts/tp)\n",
    "# We notice that the speed-up is less than 1 due to the parallel overhead times\n",
    "# (initializing the processes)\n",
    "# writing bottleneck ... processes would like to access the same RAM ... \n",
    "# cache writing conflicts."
   ]
  },
  {
   "cell_type": "markdown",
   "metadata": {},
   "source": [
    "### Example 2: sum of exponencials.\n",
    "$$c_i = \\sum_{j=0}^{9999}a_i^{b_i}$$"
   ]
  },
  {
   "cell_type": "code",
   "execution_count": 2,
   "metadata": {},
   "outputs": [],
   "source": [
    "VECTOR_SIZE = 15000\n",
    "\n",
    "array_A = []\n",
    "array_B = []\n",
    "array_C = []\n",
    "\n",
    "array_A = np.random.randint(5, size=(VECTOR_SIZE))\n",
    "array_B = np.random.randint(5, size=(VECTOR_SIZE))"
   ]
  },
  {
   "cell_type": "code",
   "execution_count": 3,
   "metadata": {},
   "outputs": [],
   "source": [
    "def sum_of_exps(a,b):\n",
    "    total = 0\n",
    "    for _ in range(10000):\n",
    "        total += a**b\n",
    "    \n",
    "    return total"
   ]
  },
  {
   "cell_type": "code",
   "execution_count": 4,
   "metadata": {},
   "outputs": [
    {
     "name": "stdout",
     "output_type": "stream",
     "text": [
      "Serial execution time:  24.14407968521118\n"
     ]
    }
   ],
   "source": [
    "# Serial process:\n",
    "t1 = time.time()\n",
    "for i in range(0, VECTOR_SIZE):\n",
    "    array_C.append(sum_of_exps(array_A[i], array_B[i]))\n",
    "ts = time.time() - t1\n",
    "print(\"Serial execution time: \", ts)"
   ]
  },
  {
   "cell_type": "code",
   "execution_count": 5,
   "metadata": {},
   "outputs": [
    {
     "name": "stdout",
     "output_type": "stream",
     "text": [
      "Parallel execution time:  13.141814947128296\n"
     ]
    }
   ],
   "source": [
    "# Parallel process:\n",
    "joined_vector = zip(array_A, array_B)\n",
    "t2 = time.time()\n",
    "p = Pool(cpu_count())\n",
    "array_C = p.starmap(sum_of_exps, joined_vector)\n",
    "p.close()\n",
    "p.join()\n",
    "tp = time.time() - t2\n",
    "print(\"Parallel execution time: \", tp)"
   ]
  },
  {
   "cell_type": "code",
   "execution_count": 6,
   "metadata": {},
   "outputs": [
    {
     "name": "stdout",
     "output_type": "stream",
     "text": [
      "Speed-up:  1.8371952262565576\n"
     ]
    }
   ],
   "source": [
    "print(\"Speed-up: \", ts/tp)"
   ]
  },
  {
   "cell_type": "markdown",
   "metadata": {},
   "source": [
    "### Example 3: Matrix-vector multiplication (applications: image processing, signal filtering, ...)\n",
    "\n",
    "We have the following matrix:\n",
    "$$ A = \\begin{bmatrix} a_{11} & a_{12} & a_{13} & \\cdots & a_{1n} \\\\\n",
    "a_{21} & a_{22} & a_{23} & \\cdots & a_{2n}\\\\\n",
    "& & \\vdots & &\\\\\n",
    "a_{m1} & a_{m2} & a_{m3} & \\cdots & a_{mn} \\end{bmatrix}$$\n",
    "\n",
    "and the following vector:\n",
    "$$v = \\begin{bmatrix} b_1 \\\\ b_2 \\\\ b_3 \\\\ \\vdots \\\\ b_n \\end{bmatrix}$$"
   ]
  },
  {
   "cell_type": "code",
   "execution_count": 7,
   "metadata": {},
   "outputs": [],
   "source": [
    "M = 10000\n",
    "N = 10000\n",
    "\n",
    "result_serial = []\n",
    "matrix_A = np.random.randint(100, size=(M,N))\n",
    "vector_v = np.random.randint(100, size=(N))"
   ]
  },
  {
   "cell_type": "code",
   "execution_count": 8,
   "metadata": {},
   "outputs": [],
   "source": [
    "def dot_product(x,y):\n",
    "    sum = 0\n",
    "    for i in range(N):\n",
    "        sum += x[i]*y[i]\n",
    "    \n",
    "    return sum"
   ]
  },
  {
   "cell_type": "code",
   "execution_count": 9,
   "metadata": {},
   "outputs": [
    {
     "name": "stdout",
     "output_type": "stream",
     "text": [
      "Serial execution time:  54.8948655128479\n"
     ]
    }
   ],
   "source": [
    "# Serial process:\n",
    "t1 = time.time()\n",
    "for row in matrix_A:\n",
    "    result_serial.append(dot_product(row, vector_v))\n",
    "ts = time.time() - t1\n",
    "print(\"Serial execution time: \", ts)"
   ]
  },
  {
   "cell_type": "code",
   "execution_count": 10,
   "metadata": {},
   "outputs": [
    {
     "name": "stdout",
     "output_type": "stream",
     "text": [
      "Parallel execution time:  19.529544591903687\n"
     ]
    }
   ],
   "source": [
    "# Parallel process:\n",
    "joined_vector = zip(matrix_A, repeat(vector_v))\n",
    "t2 = time.time()\n",
    "p = Pool(cpu_count())\n",
    "result_parallel = p.starmap(dot_product, joined_vector)\n",
    "p.close()\n",
    "p.join()\n",
    "tp = time.time() - t2\n",
    "print(\"Parallel execution time: \", tp)"
   ]
  },
  {
   "cell_type": "code",
   "execution_count": 105,
   "metadata": {},
   "outputs": [
    {
     "name": "stdout",
     "output_type": "stream",
     "text": [
      "Speed-up:  2.857060024501563\n"
     ]
    }
   ],
   "source": [
    "assert result_serial == result_parallel\n",
    "print(\"Speed-up: \", ts/tp)"
   ]
  },
  {
   "cell_type": "code",
   "execution_count": 11,
   "metadata": {},
   "outputs": [
    {
     "name": "stdout",
     "output_type": "stream",
     "text": [
      "Parallel execution time using joblib:  19.533869743347168\n"
     ]
    }
   ],
   "source": [
    "from joblib import Parallel, delayed \n",
    "\n",
    "t3 = time.time()\n",
    "processed_list = Parallel(n_jobs=8)(delayed(dot_product)(row, vector_v) for row in matrix_A)\n",
    "tjoblib = time.time() - t3\n",
    "print(\"Parallel execution time using joblib: \", tjoblib)"
   ]
  },
  {
   "cell_type": "code",
   "execution_count": 112,
   "metadata": {},
   "outputs": [
    {
     "name": "stdout",
     "output_type": "stream",
     "text": [
      "Numpy execution time:  0.1317138671875\n"
     ]
    }
   ],
   "source": [
    "t3 = time.time()\n",
    "Av = np.dot(matrix_A, vector_v)\n",
    "tnumpy = time.time() - t3\n",
    "print(\"Numpy execution time: \", tnumpy)\n",
    "assert result_serial == Av.tolist()\n",
    "\n",
    "# Comment: numpy uses AVX optimization --> single instruction, multiple data (SIMD)\n",
    "# bit-level parallelism\n",
    "# AVX uses CPU registers of 512 bits which can process up to 16 float numbers in parallel."
   ]
  },
  {
   "cell_type": "markdown",
   "metadata": {},
   "source": [
    "### Example 4: image histogram.\n"
   ]
  },
  {
   "cell_type": "code",
   "execution_count": 182,
   "metadata": {},
   "outputs": [
    {
     "name": "stdout",
     "output_type": "stream",
     "text": [
      "rows: 2304, cols: 2880\n"
     ]
    },
    {
     "data": {
      "text/plain": [
       "(-0.5, 2879.5, 2303.5, -0.5)"
      ]
     },
     "execution_count": 182,
     "metadata": {},
     "output_type": "execute_result"
    },
    {
     "data": {
      "image/png": "[encoded data removed]",
      "text/plain": [
       "<Figure size 432x288 with 1 Axes>"
      ]
     },
     "metadata": {
      "needs_background": "light"
     },
     "output_type": "display_data"
    }
   ],
   "source": [
    "# Reading image:\n",
    "img = np.load('goldhill.npy')\n",
    "print(f'rows: {img.shape[0]}, cols: {img.shape[1]}')\n",
    "plt.figure()\n",
    "plt.imshow(img, cmap='gray')\n",
    "plt.axis('off')"
   ]
  },
  {
   "cell_type": "code",
   "execution_count": 183,
   "metadata": {},
   "outputs": [],
   "source": [
    "def my_histogram(img):\n",
    "    hist = np.zeros((256))\n",
    "    M = len(img)     #imagen.shape[0] -- rows\n",
    "    N = len(img[0])  #imagen.shape[1] -- cols\n",
    "    for i in range(M):\n",
    "        for j in range(N):\n",
    "            hist[img[i][j]] += 1\n",
    "\n",
    "    return hist"
   ]
  },
  {
   "cell_type": "code",
   "execution_count": 184,
   "metadata": {},
   "outputs": [
    {
     "name": "stdout",
     "output_type": "stream",
     "text": [
      "Serial execution time:  6.930336236953735\n"
     ]
    },
    {
     "data": {
      "image/png": "[encoded data removed]",
      "text/plain": [
       "<Figure size 432x288 with 1 Axes>"
      ]
     },
     "metadata": {
      "needs_background": "light"
     },
     "output_type": "display_data"
    }
   ],
   "source": [
    "# Serial process:\n",
    "t1 = time.time()\n",
    "hist_serial = my_histogram(img)\n",
    "ts = time.time() - t1\n",
    "print(\"Serial execution time: \", ts)\n",
    "\n",
    "plt.figure()\n",
    "plt.bar(range(0, len(hist_serial)), hist_serial)\n",
    "plt.savefig('hist_serial.png', bbox_inches='tight')"
   ]
  },
  {
   "cell_type": "code",
   "execution_count": 196,
   "metadata": {},
   "outputs": [
    {
     "name": "stdout",
     "output_type": "stream",
     "text": [
      "(1200, 2880) (1104, 2880) [0, 1200]\n",
      "Parallel execution time:  4.108652353286743\n"
     ]
    },
    {
     "data": {
      "image/png": "[encoded data removed]",
      "text/plain": [
       "<Figure size 432x288 with 1 Axes>"
      ]
     },
     "metadata": {
      "needs_background": "light"
     },
     "output_type": "display_data"
    }
   ],
   "source": [
    "# Parallel process:\n",
    "# Split the image into two sub_images.\n",
    "chunks = [img[x:x+1200] for x in range(0, len(img), 1200)]\n",
    "# print('chunks: ')\n",
    "# pprint(chunks)\n",
    "print(chunks[0].shape, chunks[1].shape, list(range(0, len(img), 1200)))\n",
    "\n",
    "t2 = time.time()\n",
    "p = Pool() # it uses only 2 processes automatically -- 2 chunks of data\n",
    "hist_chunks = p.map(my_histogram, chunks)\n",
    "merged_hist = [sum(x) for x in zip(hist_chunks[0], hist_chunks[1])]\n",
    "tp_2 = time.time() - t2\n",
    "print(\"Parallel execution time: \", tp_2)\n",
    "\n",
    "plt.figure()\n",
    "plt.bar(range(0, len(merged_hist)), merged_hist)\n",
    "plt.savefig('hist_parallel.png', bbox_inches='tight')"
   ]
  },
  {
   "cell_type": "code",
   "execution_count": 197,
   "metadata": {},
   "outputs": [
    {
     "name": "stdout",
     "output_type": "stream",
     "text": [
      "Speed-up (using two imgs):  1.6867662778550168\n"
     ]
    }
   ],
   "source": [
    "print(\"Speed-up (using two imgs): \", ts/tp_2)"
   ]
  },
  {
   "cell_type": "code",
   "execution_count": 200,
   "metadata": {},
   "outputs": [
    {
     "name": "stdout",
     "output_type": "stream",
     "text": [
      "(576, 2880) (576, 2880) (576, 2880) (576, 2880) [0, 600, 1200, 1800]\n",
      "Parallel execution time:  2.6605794429779053\n"
     ]
    },
    {
     "data": {
      "image/png": "[encoded data removed]",
      "text/plain": [
       "<Figure size 432x288 with 1 Axes>"
      ]
     },
     "metadata": {
      "needs_background": "light"
     },
     "output_type": "display_data"
    }
   ],
   "source": [
    "# Parallel process:\n",
    "# Split the image into four sub_images.\n",
    "Nrows = len(img)//4\n",
    "chunks = [img[x:x+Nrows] for x in range(0, len(img), Nrows)]\n",
    "# print('chunks: ')\n",
    "# pprint(chunks)\n",
    "print(chunks[0].shape, chunks[1].shape, chunks[2].shape, chunks[3].shape, list(range(0, len(img), 600)))\n",
    "\n",
    "t3 = time.time()\n",
    "p = Pool() # it uses only 4 processes automatically -- 4 chunks of data\n",
    "hist_chunks = p.map(my_histogram, chunks)\n",
    "merged_hist = [sum(x) for x in zip(hist_chunks[0], hist_chunks[1], hist_chunks[2], hist_chunks[3])]\n",
    "tp_4 = time.time() - t3\n",
    "print(\"Parallel execution time: \", tp_4)\n",
    "\n",
    "plt.figure()\n",
    "plt.bar(range(0, len(merged_hist)), merged_hist)\n",
    "plt.savefig('hist_parallel_4subimg.png', bbox_inches='tight')"
   ]
  },
  {
   "cell_type": "code",
   "execution_count": 201,
   "metadata": {},
   "outputs": [
    {
     "name": "stdout",
     "output_type": "stream",
     "text": [
      "Speed-up (using 4 imgs):  2.6048221394948543\n"
     ]
    }
   ],
   "source": [
    "print(\"Speed-up (using 4 imgs): \", ts/tp_4)"
   ]
  },
  {
   "cell_type": "markdown",
   "metadata": {},
   "source": [
    "### Example 5: processing multiple images.\n"
   ]
  },
  {
   "cell_type": "code",
   "execution_count": 246,
   "metadata": {},
   "outputs": [],
   "source": [
    "def img_filter(img_names, idx, results_path):\n",
    "    for i in idx:\n",
    "        img = Image.open(img_names[i]).convert('L') # load image in grayscale\n",
    "        img = img.resize((img.size[0]*8,img.size[1]*8)) # resize four times bigger\n",
    "\n",
    "        # img_neg = img.point(lambda i: 255 - i)  # compute the negative of each pixel (lambda is an intrisic function)\n",
    "        img_fil = img.filter(ImageFilter.FIND_EDGES) # fine edges in the image\n",
    "        \n",
    "        img_fil.save(os.path.join(results_path,img_names[i].split('/')[-1]))"
   ]
  },
  {
   "cell_type": "code",
   "execution_count": 228,
   "metadata": {},
   "outputs": [
    {
     "name": "stdout",
     "output_type": "stream",
     "text": [
      "['./data/barbara_gray512.png',\n",
      " './data/boats_gray.png',\n",
      " './data/goldhill_gray.png',\n",
      " './data/horse.png',\n",
      " './data/lena_gray_512.png',\n",
      " './data/lighthouse_gray.png',\n",
      " './data/mandrill_gray.png',\n",
      " './data/peppers_gray.png']\n"
     ]
    }
   ],
   "source": [
    "# Define the path for the images\n",
    "img_path = './data'\n",
    "img_names = sorted(glob.glob(os.path.join(img_path,'*.png')))\n",
    "results_path = './results'\n",
    "\n",
    "os.makedirs(results_path, exist_ok=True)\n",
    "\n",
    "idx = list(range(len(img_names))) # we want to process all img in data folder\n",
    "pprint(img_names)"
   ]
  },
  {
   "cell_type": "code",
   "execution_count": 238,
   "metadata": {},
   "outputs": [
    {
     "name": "stdout",
     "output_type": "stream",
     "text": [
      "Serial execution time:  4.378103733062744\n"
     ]
    }
   ],
   "source": [
    "# Serial processing:\n",
    "t1 = time.time()\n",
    "img_filter(img_names, idx, results_path)\n",
    "ts = time.time() - t1\n",
    "print(\"Serial execution time: \", ts)"
   ]
  },
  {
   "cell_type": "code",
   "execution_count": 247,
   "metadata": {},
   "outputs": [
    {
     "name": "stdout",
     "output_type": "stream",
     "text": [
      "Processor 0: img_names[0, 1]\n",
      "Processor 1: img_names[2, 3]\n",
      "Processor 2: img_names[4, 5]\n",
      "Processor 3: img_names[6, 7]\n",
      "Parallel execution time:  3.303287982940674\n"
     ]
    }
   ],
   "source": [
    "# Parallel processing:\n",
    "NUM_PROC = 4 # number of processors in PC to be used\n",
    "# NUM_PROC = cpu_count() # number of processors in PC to be used\n",
    "imgs_per_proc = (len(idx)//NUM_PROC)\n",
    "\n",
    "t2 = time.time()\n",
    "jobs = []\n",
    "for i in range(NUM_PROC):\n",
    "    print(f'Processor {i}: img_names{idx[i*imgs_per_proc:(i+1)*imgs_per_proc]}')\n",
    "    # each process will execute the target function in the same number of images.\n",
    "    process = Process(target=img_filter, args=(img_names, idx[i*imgs_per_proc:(i+1)*imgs_per_proc], results_path))\n",
    "    jobs.append(process)\n",
    "\n",
    "for j in jobs:\n",
    "    j.start()\n",
    "\n",
    "for j in jobs:\n",
    "    j.join()  \n",
    "\n",
    "tp = time.time() - t2  \n",
    "print(\"Parallel execution time: \", tp)"
   ]
  },
  {
   "cell_type": "code",
   "execution_count": 242,
   "metadata": {},
   "outputs": [
    {
     "name": "stdout",
     "output_type": "stream",
     "text": [
      "Speed-up:  2.418632286085938\n"
     ]
    }
   ],
   "source": [
    "print(\"Speed-up: \", ts/tp)"
   ]
  }
 ],
 "metadata": {
  "interpreter": {
   "hash": "31f2aee4e71d21fbe5cf8b01ff0e069b9275f58929596ceb00d14d90e3e16cd6"
  },
  "kernelspec": {
   "display_name": "Python 3",
   "language": "python",
   "name": "python3"
  },
  "language_info": {
   "codemirror_mode": {
    "name": "ipython",
    "version": 3
   },
   "file_extension": ".py",
   "mimetype": "text/x-python",
   "name": "python",
   "nbconvert_exporter": "python",
   "pygments_lexer": "ipython3",
   "version": "3.6.9"
  }
 },
 "nbformat": 4,
 "nbformat_minor": 2
}
